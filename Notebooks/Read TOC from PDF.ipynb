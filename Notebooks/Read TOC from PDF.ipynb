{
 "cells": [
  {
   "cell_type": "markdown",
   "id": "66e7431f",
   "metadata": {},
   "source": [
    "# Read TOC from PDF\n",
    "This code in this Notebook uses pymupdf to read the contents of the UFGS table of contents PDF. It then uses regex to find the lines starting with \"DIVISION\" and puts those lines into a list. The list is split into two indicies: div number and title. The list is written to a pandas dataframe, then exported to Excel.\n",
    "\n",
    "Jupyter Notebook written by Ben Fisher on 26 November 2024 <br>\n",
    "**benjamin.s.fisher@usace.army.mil**\n",
    "\n",
    "### Imports"
   ]
  },
  {
   "cell_type": "code",
   "execution_count": 1,
   "id": "edca150e",
   "metadata": {},
   "outputs": [],
   "source": [
    "import os, datetime\n",
    "import pymupdf as pypdf\n",
    "import pandas as pd\n",
    "import re"
   ]
  },
  {
   "cell_type": "markdown",
   "id": "2113aff3",
   "metadata": {},
   "source": [
    "### Standard Characters"
   ]
  },
  {
   "cell_type": "code",
   "execution_count": 2,
   "id": "d03980ab",
   "metadata": {},
   "outputs": [],
   "source": [
    "form_feed = 12\n",
    "new_line = '\\n'"
   ]
  },
  {
   "cell_type": "markdown",
   "id": "e967cd0a",
   "metadata": {},
   "source": [
    "### Paths"
   ]
  },
  {
   "cell_type": "code",
   "execution_count": 3,
   "id": "168e0d02",
   "metadata": {},
   "outputs": [],
   "source": [
    "root_path = os.getcwd()\n",
    "toc_file = root_path + '\\\\TOC\\\\UFGS TOC.pdf'"
   ]
  },
  {
   "cell_type": "markdown",
   "id": "95fa75b6",
   "metadata": {},
   "source": [
    "### Get All Division Info"
   ]
  },
  {
   "cell_type": "code",
   "execution_count": 4,
   "id": "ecfeb440",
   "metadata": {},
   "outputs": [
    {
     "data": {
      "text/plain": [
       "[['00', 'Procurement And Contracting Requirements'],\n",
       " ['01', 'General Requirements'],\n",
       " ['02', 'Existing Conditions'],\n",
       " ['03', 'Concrete'],\n",
       " ['04', 'Masonry'],\n",
       " ['05', 'Metals'],\n",
       " ['06', 'Wood, Plastics, And Composites'],\n",
       " ['07', 'Thermal And Moisture Protection'],\n",
       " ['08', 'Openings'],\n",
       " ['09', 'Finishes'],\n",
       " ['10', 'Specialties'],\n",
       " ['11', 'Equipment'],\n",
       " ['12', 'Furnishings'],\n",
       " ['13', 'Special Construction'],\n",
       " ['14', 'Conveying Equipment'],\n",
       " ['21', 'Fire Suppression'],\n",
       " ['22', 'Plumbing'],\n",
       " ['23', 'Heating, Ventilating, And Air Conditioning (Hvac)'],\n",
       " ['25', 'Integrated Automation'],\n",
       " ['26', 'Electrical'],\n",
       " ['27', 'Communications'],\n",
       " ['28', 'Electronic Safety And Security'],\n",
       " ['31', 'Earthwork'],\n",
       " ['32', 'Exterior Improvements'],\n",
       " ['33', 'Utilities'],\n",
       " ['34', 'Transportation'],\n",
       " ['35', 'Waterway And Marine Construction'],\n",
       " ['40', 'Process Interconnections'],\n",
       " ['41', 'Material Processing And Handling Equipment'],\n",
       " ['43', 'Process Gas And Liquid Handling, Purification, And Storage'],\n",
       " ['46', 'Water And Wastewater Equipment'],\n",
       " ['48', 'Electrical Power Generation']]"
      ]
     },
     "execution_count": 4,
     "metadata": {},
     "output_type": "execute_result"
    }
   ],
   "source": [
    "sections_raw = []\n",
    "pattern = '^DIVISION'\n",
    "\n",
    "with pypdf.open(toc_file) as doc:\n",
    "    all_lines = chr(form_feed).join([page.get_text() for page in doc]).split(new_line)\n",
    "    for line in all_lines:\n",
    "        if not re.search(pattern, line) == None:\n",
    "            sections_raw.append(line.strip())\n",
    "\n",
    "sections = []\n",
    "if len(sections_raw) > 0:\n",
    "    for line in sections_raw:\n",
    "        split_line = re.split(' - ', line) \n",
    "        sections.append([re.split(' - ', line)[0][9:].title(),re.split(' - ', line)[1].title()])\n",
    "\n",
    "sections"
   ]
  },
  {
   "cell_type": "code",
   "execution_count": 5,
   "id": "c4796302",
   "metadata": {},
   "outputs": [],
   "source": [
    "if len(sections) > 0:\n",
    "    sections_toc_path = root_path + '\\\\UFGS TOC {:%Y%m%d %H%M%S}'.format(datetime.datetime.now()) + '.xlsx'\n",
    "    df = pd.DataFrame(sections, columns=['Division','Title'])\n",
    "    df\n",
    "    df.to_excel(sections_toc_path, index=None)"
   ]
  }
 ],
 "metadata": {
  "kernelspec": {
   "display_name": "Python 3 (ipykernel)",
   "language": "python",
   "name": "python3"
  },
  "language_info": {
   "codemirror_mode": {
    "name": "ipython",
    "version": 3
   },
   "file_extension": ".py",
   "mimetype": "text/x-python",
   "name": "python",
   "nbconvert_exporter": "python",
   "pygments_lexer": "ipython3",
   "version": "3.9.12"
  }
 },
 "nbformat": 4,
 "nbformat_minor": 5
}
