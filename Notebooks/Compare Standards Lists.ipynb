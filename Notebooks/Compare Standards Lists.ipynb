{
 "cells": [
  {
   "cell_type": "markdown",
   "id": "692a6374",
   "metadata": {},
   "source": [
    "# Compare Standards Lists\n",
    "\n",
    "This script reads the current UFGS and JES spec sections for comparison\n",
    "\n",
    "Jupyter Notebook written by Ben Fisher on 2 December 2024 <br>\n",
    "**benjamin.s.fisher@usace.army.mil**"
   ]
  },
  {
   "cell_type": "markdown",
   "id": "5d667e91",
   "metadata": {},
   "source": [
    "### Imports\n",
    "The following imports are assumed to have been previously installed (for Notebook installs, use *! pip install ~*)"
   ]
  },
  {
   "cell_type": "code",
   "execution_count": 1,
   "id": "3625b660",
   "metadata": {},
   "outputs": [],
   "source": [
    "import os, datetime, warnings\n",
    "from pathlib import Path\n",
    "import pandas as pd\n",
    "import numpy as np\n",
    "import bs4 as bs"
   ]
  },
  {
   "cell_type": "markdown",
   "id": "ac756b62",
   "metadata": {},
   "source": [
    "##### Directories\n",
    "Working directories are made relative to the 'current working directory,' which is where the Notebook (.ipynb) file is located."
   ]
  },
  {
   "cell_type": "code",
   "execution_count": 2,
   "id": "8490f4fa",
   "metadata": {},
   "outputs": [],
   "source": [
    "parent_folder = os.getcwd()\n",
    "\n",
    "ufgs_masters = parent_folder + '\\\\UFGS Cleaned\\\\'\n",
    "jes_masters = parent_folder + '\\\\JES Cleaned\\\\'"
   ]
  },
  {
   "cell_type": "code",
   "execution_count": 3,
   "id": "0ba01394",
   "metadata": {},
   "outputs": [],
   "source": [
    "warnings.filterwarnings('ignore')"
   ]
  },
  {
   "cell_type": "markdown",
   "id": "8cfd6514",
   "metadata": {},
   "source": [
    "### Define Helper Functions"
   ]
  },
  {
   "cell_type": "code",
   "execution_count": 4,
   "id": "d461eeef",
   "metadata": {},
   "outputs": [],
   "source": [
    "def get_titles(folder):\n",
    "    titles = {}\n",
    "    for file in os.listdir(folder):\n",
    "        file_path = folder + file\n",
    "        if Path(file).suffix.lower() == '.sec':\n",
    "            try:\n",
    "                with open(file_path, 'r') as doc:\n",
    "                    soup = bs.BeautifulSoup(doc.read(), 'lxml')\n",
    "                    section_number = Path(file).stem\n",
    "                    title = soup.find('stl').text.title()\n",
    "                    titles.update({section_number: title})\n",
    "            except:\n",
    "                titles.update({Path(file).stem})      \n",
    "    return titles"
   ]
  },
  {
   "cell_type": "code",
   "execution_count": 5,
   "id": "9c82218e",
   "metadata": {},
   "outputs": [],
   "source": [
    "def get_list(folder):\n",
    "    new_list = []\n",
    "    for file in os.listdir(folder):\n",
    "        file_path = folder + file\n",
    "        if Path(file).suffix.lower() == '.sec':\n",
    "            new_list.append(Path(file).stem)     \n",
    "    return new_list"
   ]
  },
  {
   "cell_type": "code",
   "execution_count": 6,
   "id": "ed9e79b7",
   "metadata": {},
   "outputs": [],
   "source": [
    "def get_full_list(list_a, list_b):\n",
    "    full_list = list(set(list_a + list_b))\n",
    "    full_list.sort()\n",
    "    return full_list"
   ]
  },
  {
   "cell_type": "code",
   "execution_count": 7,
   "id": "2d753403",
   "metadata": {},
   "outputs": [],
   "source": [
    "def compare_list(folder_a, folder_b):\n",
    "    list_a = get_list(folder_a)\n",
    "    list_b = get_list(folder_b)\n",
    "    full_list = get_full_list(list_a, list_b)\n",
    "    compare = []\n",
    "    for element in full_list:\n",
    "        compare.append([element,'', \"●\" if element in list_a else '', \"●\" if element in list_b else ''])\n",
    "    \n",
    "    titles_a = get_titles(folder_a)\n",
    "    titles_b = get_titles(folder_b)\n",
    "\n",
    "    titles_b.update(titles_a)\n",
    "    \n",
    "    for i in range(len(compare)):\n",
    "        standard = compare[i][0]\n",
    "        title = titles_b[standard]\n",
    "        compare[i][1] = title\n",
    "    \n",
    "    return compare"
   ]
  },
  {
   "cell_type": "code",
   "execution_count": 8,
   "id": "8b26590a",
   "metadata": {},
   "outputs": [],
   "source": [
    "def get_df(a_list):\n",
    "    if a_list:\n",
    "        df = pd.DataFrame(a_list)\n",
    "        \n",
    "        df.rename(columns={0:'Section', 1:'Title', 2:'UFGS', 3:'JES'}, inplace=True)\n",
    "        df.sort_values(by=['Section'], inplace=True)\n",
    "        df.index = np.arange(1, len(df) + 1)\n",
    "        \n",
    "        report_name = parent_folder + '\\\\Section Comparison ' + '{:%Y%m%d %H%M%S}'.format(datetime.datetime.now()) + '.xlsx'\n",
    "        df.to_excel(report_name)\n",
    "    return df"
   ]
  },
  {
   "cell_type": "markdown",
   "id": "d9ad12b0",
   "metadata": {},
   "source": [
    "### Compare Standards"
   ]
  },
  {
   "cell_type": "code",
   "execution_count": 9,
   "id": "23ffc34c",
   "metadata": {},
   "outputs": [
    {
     "data": {
      "text/html": [
       "<div>\n",
       "<style scoped>\n",
       "    .dataframe tbody tr th:only-of-type {\n",
       "        vertical-align: middle;\n",
       "    }\n",
       "\n",
       "    .dataframe tbody tr th {\n",
       "        vertical-align: top;\n",
       "    }\n",
       "\n",
       "    .dataframe thead th {\n",
       "        text-align: right;\n",
       "    }\n",
       "</style>\n",
       "<table border=\"1\" class=\"dataframe\">\n",
       "  <thead>\n",
       "    <tr style=\"text-align: right;\">\n",
       "      <th></th>\n",
       "      <th>Section</th>\n",
       "      <th>Title</th>\n",
       "      <th>UFGS</th>\n",
       "      <th>JES</th>\n",
       "    </tr>\n",
       "  </thead>\n",
       "  <tbody>\n",
       "    <tr>\n",
       "      <th>1</th>\n",
       "      <td>00 01 15</td>\n",
       "      <td>List Of Drawings</td>\n",
       "      <td>●</td>\n",
       "      <td></td>\n",
       "    </tr>\n",
       "    <tr>\n",
       "      <th>2</th>\n",
       "      <td>01 10 00</td>\n",
       "      <td>Description Of Work</td>\n",
       "      <td></td>\n",
       "      <td>●</td>\n",
       "    </tr>\n",
       "    <tr>\n",
       "      <th>3</th>\n",
       "      <td>01 11 00</td>\n",
       "      <td>Summary Of Work</td>\n",
       "      <td>●</td>\n",
       "      <td>●</td>\n",
       "    </tr>\n",
       "    <tr>\n",
       "      <th>4</th>\n",
       "      <td>01 11 00.00 10</td>\n",
       "      <td>General Contract Requirements</td>\n",
       "      <td></td>\n",
       "      <td>●</td>\n",
       "    </tr>\n",
       "    <tr>\n",
       "      <th>5</th>\n",
       "      <td>01 11 30.00 25</td>\n",
       "      <td>Diving</td>\n",
       "      <td></td>\n",
       "      <td>●</td>\n",
       "    </tr>\n",
       "    <tr>\n",
       "      <th>...</th>\n",
       "      <td>...</td>\n",
       "      <td>...</td>\n",
       "      <td>...</td>\n",
       "      <td>...</td>\n",
       "    </tr>\n",
       "    <tr>\n",
       "      <th>699</th>\n",
       "      <td>48 06 15</td>\n",
       "      <td>Turbine Oil</td>\n",
       "      <td>●</td>\n",
       "      <td></td>\n",
       "    </tr>\n",
       "    <tr>\n",
       "      <th>700</th>\n",
       "      <td>48 14 00</td>\n",
       "      <td>Solar Photovoltaic Systems</td>\n",
       "      <td>●</td>\n",
       "      <td></td>\n",
       "    </tr>\n",
       "    <tr>\n",
       "      <th>701</th>\n",
       "      <td>48 14 13.00 20</td>\n",
       "      <td>Solar Liquid Flat Plate And Evacuated Tube Col...</td>\n",
       "      <td>●</td>\n",
       "      <td></td>\n",
       "    </tr>\n",
       "    <tr>\n",
       "      <th>702</th>\n",
       "      <td>48 15 00</td>\n",
       "      <td>Wind Generator System</td>\n",
       "      <td>●</td>\n",
       "      <td></td>\n",
       "    </tr>\n",
       "    <tr>\n",
       "      <th>703</th>\n",
       "      <td>48 16 00</td>\n",
       "      <td>Landfill Gas Systems</td>\n",
       "      <td>●</td>\n",
       "      <td></td>\n",
       "    </tr>\n",
       "  </tbody>\n",
       "</table>\n",
       "<p>703 rows × 4 columns</p>\n",
       "</div>"
      ],
      "text/plain": [
       "            Section                                              Title UFGS  \\\n",
       "1          00 01 15                                   List Of Drawings    ●   \n",
       "2          01 10 00                                Description Of Work        \n",
       "3          01 11 00                                    Summary Of Work    ●   \n",
       "4    01 11 00.00 10                      General Contract Requirements        \n",
       "5    01 11 30.00 25                                             Diving        \n",
       "..              ...                                                ...  ...   \n",
       "699        48 06 15                                        Turbine Oil    ●   \n",
       "700        48 14 00                         Solar Photovoltaic Systems    ●   \n",
       "701  48 14 13.00 20  Solar Liquid Flat Plate And Evacuated Tube Col...    ●   \n",
       "702        48 15 00                              Wind Generator System    ●   \n",
       "703        48 16 00                               Landfill Gas Systems    ●   \n",
       "\n",
       "    JES  \n",
       "1        \n",
       "2     ●  \n",
       "3     ●  \n",
       "4     ●  \n",
       "5     ●  \n",
       "..   ..  \n",
       "699      \n",
       "700      \n",
       "701      \n",
       "702      \n",
       "703      \n",
       "\n",
       "[703 rows x 4 columns]"
      ]
     },
     "execution_count": 9,
     "metadata": {},
     "output_type": "execute_result"
    }
   ],
   "source": [
    "comparison = get_df(compare_list(ufgs_masters, jes_masters))\n",
    "\n",
    "comparison"
   ]
  },
  {
   "cell_type": "code",
   "execution_count": null,
   "id": "82becdd7",
   "metadata": {},
   "outputs": [],
   "source": []
  }
 ],
 "metadata": {
  "kernelspec": {
   "display_name": "Python 3 (ipykernel)",
   "language": "python",
   "name": "python3"
  },
  "language_info": {
   "codemirror_mode": {
    "name": "ipython",
    "version": 3
   },
   "file_extension": ".py",
   "mimetype": "text/x-python",
   "name": "python",
   "nbconvert_exporter": "python",
   "pygments_lexer": "ipython3",
   "version": "3.9.12"
  }
 },
 "nbformat": 4,
 "nbformat_minor": 5
}
