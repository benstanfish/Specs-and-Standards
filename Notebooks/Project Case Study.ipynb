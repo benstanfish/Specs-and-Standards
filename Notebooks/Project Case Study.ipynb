{
 "cells": [
  {
   "cell_type": "markdown",
   "id": "7392dd5b",
   "metadata": {},
   "source": [
    "# Title\n",
    "\n",
    "*Description*\n",
    "\n",
    "Jupyter Notebook written by Ben Fisher on ### DATE ### <br>\n",
    "**benjamin.s.fisher@usace.army.mil**"
   ]
  },
  {
   "cell_type": "markdown",
   "id": "5093e185",
   "metadata": {},
   "source": [
    "### Imports\n",
    "\n",
    "For libraries not installed use: !pip install \\<library\\> to install from Notebook"
   ]
  },
  {
   "cell_type": "code",
   "execution_count": 26,
   "id": "5be1eb79",
   "metadata": {},
   "outputs": [],
   "source": [
    "import os, warnings, datetime, time\n",
    "import pathlib as Path\n",
    "import pandas as pd\n",
    "import numpy as np\n",
    "import regex as re"
   ]
  },
  {
   "cell_type": "markdown",
   "id": "0190eaae",
   "metadata": {},
   "source": [
    "### Projects"
   ]
  },
  {
   "cell_type": "code",
   "execution_count": 27,
   "id": "e81a3549",
   "metadata": {},
   "outputs": [],
   "source": [
    "root = 'C:\\\\pw-work\\\\podd_j2ee9bsf\\\\'"
   ]
  },
  {
   "cell_type": "code",
   "execution_count": 28,
   "id": "8412c875",
   "metadata": {},
   "outputs": [],
   "source": [
    "projects = {'FY24 AFH Renovations Quarters 983, 955, 956, 957, 958 & 959': 'pwpoj01\\d0135118',\n",
    "           'FY23 DoDEA Zama HS Culinary Arts Renovation': 'pwpoj01\\d0111832',\n",
    "           'FY20 OMA Repair Kastner Heliport Lighting, Camp Zama': 'pwpoj01\\dms90520'}"
   ]
  },
  {
   "cell_type": "code",
   "execution_count": null,
   "id": "fcff506e",
   "metadata": {},
   "outputs": [],
   "source": []
  },
  {
   "cell_type": "code",
   "execution_count": null,
   "id": "551e73a3",
   "metadata": {},
   "outputs": [],
   "source": []
  }
 ],
 "metadata": {
  "kernelspec": {
   "display_name": "Python 3 (ipykernel)",
   "language": "python",
   "name": "python3"
  },
  "language_info": {
   "codemirror_mode": {
    "name": "ipython",
    "version": 3
   },
   "file_extension": ".py",
   "mimetype": "text/x-python",
   "name": "python",
   "nbconvert_exporter": "python",
   "pygments_lexer": "ipython3",
   "version": "3.9.12"
  }
 },
 "nbformat": 4,
 "nbformat_minor": 5
}
