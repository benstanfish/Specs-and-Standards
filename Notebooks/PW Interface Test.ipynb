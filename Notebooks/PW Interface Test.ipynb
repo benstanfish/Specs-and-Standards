{
 "cells": [
  {
   "cell_type": "markdown",
   "id": "7392dd5b",
   "metadata": {},
   "source": [
    "# Title\n",
    "\n",
    "*Description*\n",
    "\n",
    "Jupyter Notebook written by Ben Fisher on 5 December 2024 <br>\n",
    "**benjamin.s.fisher@usace.army.mil**"
   ]
  },
  {
   "cell_type": "markdown",
   "id": "5093e185",
   "metadata": {},
   "source": [
    "### Imports\n",
    "\n",
    "For libraries not installed use: !pip install \\<library\\> to install from Notebook"
   ]
  },
  {
   "cell_type": "code",
   "execution_count": 7,
   "id": "5be1eb79",
   "metadata": {},
   "outputs": [],
   "source": [
    "import os, warnings, datetime, time\n",
    "\n",
    "import pandas as pd\n",
    "import numpy as np\n",
    "import regex as re"
   ]
  },
  {
   "cell_type": "code",
   "execution_count": 8,
   "id": "eda06302",
   "metadata": {},
   "outputs": [],
   "source": [
    "import bs4 as bs\n",
    "import lxml"
   ]
  },
  {
   "cell_type": "markdown",
   "id": "19e66a7d",
   "metadata": {},
   "source": [
    "### Testing\n",
    "\n",
    "The following links (UNC and URL) direct to the same ProjectWise Directory"
   ]
  },
  {
   "cell_type": "code",
   "execution_count": 45,
   "id": "154212a7",
   "metadata": {},
   "outputs": [],
   "source": [
    "target_unc = 'pw://EPOJW2SN02AOA01.poj.ds.usace.army.mil:PWPOJ01/Documents/P{34f8c63d-73bf-4469-a87e-56f725808937}/'\n",
    "target_url = 'pw://EPOJW2SN02AOA01.poj.ds.usace.army.mil:PWPOJ01/Documents/Military/02_IWA/FY26&space;MCN&space;H2406&space;Repair&space;Whole&space;House&space;Building&space;1255,&space;Iwakuni/08_Design&space;Documents/02_Draft&space;DBRFP/Working/'"
   ]
  },
  {
   "cell_type": "markdown",
   "id": "a2480d06",
   "metadata": {},
   "source": [
    "##### Testing with OS"
   ]
  },
  {
   "cell_type": "code",
   "execution_count": 46,
   "id": "684d43a4",
   "metadata": {},
   "outputs": [
    {
     "name": "stdout",
     "output_type": "stream",
     "text": [
      "[WinError 123] The filename, directory name, or volume label syntax is incorrect: 'pw://EPOJW2SN02AOA01.poj.ds.usace.army.mil:PWPOJ01/Documents/P{34f8c63d-73bf-4469-a87e-56f725808937}/'\n"
     ]
    }
   ],
   "source": [
    "try:\n",
    "    dir_list = os.listdir(target_unc)\n",
    "except OSError as e:\n",
    "    print(e)"
   ]
  },
  {
   "cell_type": "markdown",
   "id": "b9dfdd4f",
   "metadata": {},
   "source": [
    "WinError 123 - seems to be raised because of the colons in the unc (OSError)"
   ]
  },
  {
   "cell_type": "code",
   "execution_count": 47,
   "id": "1d8252cd",
   "metadata": {},
   "outputs": [
    {
     "name": "stdout",
     "output_type": "stream",
     "text": [
      "[WinError 3] The system cannot find the path specified: 'pw://EPOJW2SN02AOA01.poj.ds.usace.army.mil:PWPOJ01/Documents/Military/02_IWA/FY26&space;MCN&space;H2406&space;Repair&space;Whole&space;House&space;Building&space;1255,&space;Iwakuni/08_Design&space;Documents/02_Draft&space;DBRFP/Working/'\n"
     ]
    }
   ],
   "source": [
    "try:\n",
    "    dir_list = os.listdir(target_url)\n",
    "except FileNotFoundError as e:\n",
    "    print(e)"
   ]
  },
  {
   "cell_type": "markdown",
   "id": "7ed358a2",
   "metadata": {},
   "source": [
    "WinError 3 - appears to be raised because the dir can't be found?"
   ]
  },
  {
   "cell_type": "markdown",
   "id": "5fa5a8c7",
   "metadata": {},
   "source": [
    "###### Testing with pathlib"
   ]
  },
  {
   "cell_type": "code",
   "execution_count": 54,
   "id": "e147dcdb",
   "metadata": {},
   "outputs": [],
   "source": [
    "import pathlib"
   ]
  },
  {
   "cell_type": "code",
   "execution_count": 60,
   "id": "457a75af",
   "metadata": {},
   "outputs": [
    {
     "data": {
      "text/plain": [
       "WindowsPath('pw:/EPOJW2SN02AOA01.poj.ds.usace.army.mil:PWPOJ01/Documents/P{34f8c63d-73bf-4469-a87e-56f725808937}')"
      ]
     },
     "execution_count": 60,
     "metadata": {},
     "output_type": "execute_result"
    }
   ],
   "source": [
    "pathlib.Path(target_unc)"
   ]
  },
  {
   "cell_type": "code",
   "execution_count": 61,
   "id": "11538291",
   "metadata": {},
   "outputs": [
    {
     "data": {
      "text/plain": [
       "WindowsPath('pw:/EPOJW2SN02AOA01.poj.ds.usace.army.mil:PWPOJ01/Documents/Military/02_IWA/FY26&space;MCN&space;H2406&space;Repair&space;Whole&space;House&space;Building&space;1255,&space;Iwakuni/08_Design&space;Documents/02_Draft&space;DBRFP/Working')"
      ]
     },
     "execution_count": 61,
     "metadata": {},
     "output_type": "execute_result"
    }
   ],
   "source": [
    "pathlib.Path(target_url)"
   ]
  },
  {
   "cell_type": "code",
   "execution_count": 67,
   "id": "06d78958",
   "metadata": {},
   "outputs": [
    {
     "name": "stdout",
     "output_type": "stream",
     "text": [
      "[WinError 123] The filename, directory name, or volume label syntax is incorrect: 'pw:\\\\EPOJW2SN02AOA01.poj.ds.usace.army.mil:PWPOJ01\\\\Documents\\\\P{34f8c63d-73bf-4469-a87e-56f725808937}'\n"
     ]
    }
   ],
   "source": [
    "try:\n",
    "    list(pathlib.Path(target_unc).iterdir())\n",
    "except OSError as e:\n",
    "    print(e)"
   ]
  },
  {
   "cell_type": "code",
   "execution_count": 68,
   "id": "2b60bf92",
   "metadata": {},
   "outputs": [
    {
     "name": "stdout",
     "output_type": "stream",
     "text": [
      "[WinError 3] The system cannot find the path specified: 'pw:\\\\EPOJW2SN02AOA01.poj.ds.usace.army.mil:PWPOJ01\\\\Documents\\\\Military\\\\02_IWA\\\\FY26&space;MCN&space;H2406&space;Repair&space;Whole&space;House&space;Building&space;1255,&space;Iwakuni\\\\08_Design&space;Documents\\\\02_Draft&space;DBRFP\\\\Working'\n"
     ]
    }
   ],
   "source": [
    "try:\n",
    "    list(pathlib.Path(target_url).iterdir())\n",
    "except FileNotFoundError as e:\n",
    "    print(e)"
   ]
  },
  {
   "cell_type": "code",
   "execution_count": null,
   "id": "b6307a59",
   "metadata": {},
   "outputs": [],
   "source": []
  }
 ],
 "metadata": {
  "kernelspec": {
   "display_name": "Python 3 (ipykernel)",
   "language": "python",
   "name": "python3"
  },
  "language_info": {
   "codemirror_mode": {
    "name": "ipython",
    "version": 3
   },
   "file_extension": ".py",
   "mimetype": "text/x-python",
   "name": "python",
   "nbconvert_exporter": "python",
   "pygments_lexer": "ipython3",
   "version": "3.9.12"
  }
 },
 "nbformat": 4,
 "nbformat_minor": 5
}
