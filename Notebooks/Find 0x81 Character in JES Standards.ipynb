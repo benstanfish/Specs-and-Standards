{
 "cells": [
  {
   "cell_type": "markdown",
   "id": "229ab95b",
   "metadata": {},
   "source": [
    "# Find 0x81 Character in JES Standards\n",
    "Jupyter Notebook written by Ben Fisher on 26 November 2024 <br>\n",
    "**benjamin.s.fisher@usace.army.mil**"
   ]
  },
  {
   "cell_type": "markdown",
   "id": "16a2ebd0",
   "metadata": {},
   "source": [
    "### Imports\n",
    "The following imports are assumed to have been previously installed (for Notebook installs, use *! pip install ~*)"
   ]
  },
  {
   "cell_type": "code",
   "execution_count": 1,
   "id": "d2cd2d68",
   "metadata": {},
   "outputs": [],
   "source": [
    "import os, warnings, datetime, time\n",
    "import bs4 as bs\n",
    "import lxml\n",
    "import pandas as pd\n",
    "import numpy as np\n",
    "from pathlib import Path"
   ]
  },
  {
   "cell_type": "code",
   "execution_count": 2,
   "id": "09c5bcde",
   "metadata": {},
   "outputs": [],
   "source": [
    "parent_folder = os.getcwd()"
   ]
  },
  {
   "cell_type": "code",
   "execution_count": 3,
   "id": "18aa0bce",
   "metadata": {},
   "outputs": [],
   "source": [
    "test_file = parent_folder + r'\\JES\\05 12 00.sec'"
   ]
  },
  {
   "cell_type": "markdown",
   "id": "4681f226",
   "metadata": {},
   "source": [
    "### The Culprit\n",
    "The character is byte 0x81, which is Unicode 129. In Jupyter Notebook (.ipynb) files, it appears as a bullet (see below), but this is just so that it is visible - it is a non-printing character in the wild, and difficult to locate with regular search tools.\n",
    "\n",
    "**This character should be removed from JES versions, because it potentially interferes with reading and parsing .sec files, which are ANSI encoded (windows-1252) XML files.**"
   ]
  },
  {
   "cell_type": "code",
   "execution_count": 4,
   "id": "a4cda7b1",
   "metadata": {},
   "outputs": [
    {
     "name": "stdout",
     "output_type": "stream",
     "text": [
      "129\n"
     ]
    }
   ],
   "source": [
    "the_character = ''\n",
    "print(ord(the_character))"
   ]
  },
  {
   "cell_type": "markdown",
   "id": "a4a32d4e",
   "metadata": {},
   "source": [
    "### Reading Files and Locating the Character"
   ]
  },
  {
   "cell_type": "markdown",
   "id": "4dd7772b",
   "metadata": {},
   "source": [
    "##### Try Parsing with BS4"
   ]
  },
  {
   "cell_type": "code",
   "execution_count": 5,
   "id": "f0c2375e",
   "metadata": {},
   "outputs": [
    {
     "name": "stdout",
     "output_type": "stream",
     "text": [
      "'charmap' codec can't decode byte 0x81 in position 8696: character maps to <undefined>\n"
     ]
    }
   ],
   "source": [
    "with open(test_file, 'r') as f:\n",
    "    try:\n",
    "        soup = bs.BeautifulSoup(f.read(), 'lxml')\n",
    "    except UnicodeDecodeError as e:\n",
    "        print(e)"
   ]
  },
  {
   "cell_type": "markdown",
   "id": "9939c824",
   "metadata": {},
   "source": [
    "It appears that attempting to parse the file with bs4 is not going to work. Nor will parsing the file in ANSI or UTF-8 encodings. Next step: read the file byte-wise."
   ]
  },
  {
   "cell_type": "markdown",
   "id": "66cd3c00",
   "metadata": {},
   "source": [
    "##### Read File Binary\n",
    "The following function is intended to return a list of line numbers, which can be used with Notepad++ or a similar text reader."
   ]
  },
  {
   "cell_type": "code",
   "execution_count": 6,
   "id": "8d623741",
   "metadata": {},
   "outputs": [],
   "source": [
    "def suspicious_lines(file):\n",
    "    suspect_lines = []\n",
    "    with open(file, 'rb') as f:\n",
    "        lines = f.readlines()\n",
    "        for i in range(len(lines)):\n",
    "            before_size = len(lines[i])\n",
    "            after_size = len(lines[i].replace(b'\\x81',b''))\n",
    "            if not after_size == before_size:\n",
    "                # Return the line number, but as base 1, not base 0\n",
    "                suspect_lines.append(i + 1)\n",
    "\n",
    "    return suspect_lines"
   ]
  },
  {
   "cell_type": "code",
   "execution_count": 7,
   "id": "e260e02d",
   "metadata": {},
   "outputs": [
    {
     "data": {
      "text/plain": [
       "[180]"
      ]
     },
     "execution_count": 7,
     "metadata": {},
     "output_type": "execute_result"
    }
   ],
   "source": [
    "lines = suspicious_lines(test_file)\n",
    "lines"
   ]
  },
  {
   "cell_type": "markdown",
   "id": "bee2ab05",
   "metadata": {},
   "source": [
    "### Batch Process Files\n",
    "The following list of sections is from a different analysis (ref. to *JES Standards Scrape with BeautifulSoup (v2)* Jupyter Notebook)"
   ]
  },
  {
   "cell_type": "code",
   "execution_count": 8,
   "id": "88daf79a",
   "metadata": {},
   "outputs": [],
   "source": [
    "ufgs_sections = ['02 83 00.SEC']"
   ]
  },
  {
   "cell_type": "code",
   "execution_count": 9,
   "id": "ff973231",
   "metadata": {},
   "outputs": [],
   "source": [
    "jes_sections = ['02 83 00.sec',\n",
    " '05 12 00.SEC',\n",
    " '05 30 00.SEC',\n",
    " '05 51 33.SEC',\n",
    " '05 52 00.SEC',\n",
    " '07 60 00.SEC',\n",
    " '08 11 16.SEC',\n",
    " '08 31 00.sec',\n",
    " '08 91 00.sec',\n",
    " '10 14 00.10.SEC',\n",
    " '10 14 00.20.SEC',\n",
    " '21 30 00.SEC',\n",
    " '22 00 00.sec',\n",
    " '23 05 15.SEC',\n",
    " '23 07 00.SEC',\n",
    " '23 23 00.SEC',\n",
    " '23 30 00.SEC',\n",
    " '23 64 26.SEC',\n",
    " '23 65 00.SEC',\n",
    " '23 81 00.SEC',\n",
    " '26 11 16.00 33.SEC',\n",
    " '33 11 00.SEC']"
   ]
  },
  {
   "cell_type": "code",
   "execution_count": 10,
   "id": "77652a00",
   "metadata": {},
   "outputs": [],
   "source": [
    "jes_directory = parent_folder + '\\\\JES\\\\'\n",
    "ufgs_directory = parent_folder + '\\\\UFGS\\\\'\n",
    "ufgs_files = [ufgs_directory + x for x in ufgs_sections]\n",
    "jes_files = [jes_directory + x for x in jes_sections]"
   ]
  },
  {
   "cell_type": "code",
   "execution_count": 11,
   "id": "6c78d729",
   "metadata": {},
   "outputs": [],
   "source": [
    "def get_all_lines(files):\n",
    "    all_lines = []\n",
    "\n",
    "    for file in files:\n",
    "        lines = suspicious_lines(file)\n",
    "        all_lines.append([Path(file).stem, lines])\n",
    "    return all_lines"
   ]
  },
  {
   "cell_type": "code",
   "execution_count": 12,
   "id": "84bafcdf",
   "metadata": {},
   "outputs": [],
   "source": [
    "def make_df(lines):\n",
    "    df = pd.DataFrame(lines, columns=['Section','Occuring Lines'])\n",
    "    df.index = np.arange(1, len(df) + 1)\n",
    "    return df"
   ]
  },
  {
   "cell_type": "code",
   "execution_count": 13,
   "id": "4db06400",
   "metadata": {},
   "outputs": [
    {
     "data": {
      "text/html": [
       "<div>\n",
       "<style scoped>\n",
       "    .dataframe tbody tr th:only-of-type {\n",
       "        vertical-align: middle;\n",
       "    }\n",
       "\n",
       "    .dataframe tbody tr th {\n",
       "        vertical-align: top;\n",
       "    }\n",
       "\n",
       "    .dataframe thead th {\n",
       "        text-align: right;\n",
       "    }\n",
       "</style>\n",
       "<table border=\"1\" class=\"dataframe\">\n",
       "  <thead>\n",
       "    <tr style=\"text-align: right;\">\n",
       "      <th></th>\n",
       "      <th>Section</th>\n",
       "      <th>Occuring Lines</th>\n",
       "    </tr>\n",
       "  </thead>\n",
       "  <tbody>\n",
       "    <tr>\n",
       "      <th>1</th>\n",
       "      <td>02 83 00</td>\n",
       "      <td>[1632]</td>\n",
       "    </tr>\n",
       "    <tr>\n",
       "      <th>2</th>\n",
       "      <td>05 12 00</td>\n",
       "      <td>[180]</td>\n",
       "    </tr>\n",
       "    <tr>\n",
       "      <th>3</th>\n",
       "      <td>05 30 00</td>\n",
       "      <td>[128]</td>\n",
       "    </tr>\n",
       "    <tr>\n",
       "      <th>4</th>\n",
       "      <td>05 51 33</td>\n",
       "      <td>[101, 103]</td>\n",
       "    </tr>\n",
       "    <tr>\n",
       "      <th>5</th>\n",
       "      <td>05 52 00</td>\n",
       "      <td>[108, 117, 123]</td>\n",
       "    </tr>\n",
       "    <tr>\n",
       "      <th>6</th>\n",
       "      <td>07 60 00</td>\n",
       "      <td>[128, 130, 131]</td>\n",
       "    </tr>\n",
       "    <tr>\n",
       "      <th>7</th>\n",
       "      <td>08 11 16</td>\n",
       "      <td>[117, 119]</td>\n",
       "    </tr>\n",
       "    <tr>\n",
       "      <th>8</th>\n",
       "      <td>08 31 00</td>\n",
       "      <td>[134]</td>\n",
       "    </tr>\n",
       "    <tr>\n",
       "      <th>9</th>\n",
       "      <td>08 91 00</td>\n",
       "      <td>[146]</td>\n",
       "    </tr>\n",
       "    <tr>\n",
       "      <th>10</th>\n",
       "      <td>10 14 00.10</td>\n",
       "      <td>[121]</td>\n",
       "    </tr>\n",
       "    <tr>\n",
       "      <th>11</th>\n",
       "      <td>10 14 00.20</td>\n",
       "      <td>[186, 188]</td>\n",
       "    </tr>\n",
       "    <tr>\n",
       "      <th>12</th>\n",
       "      <td>21 30 00</td>\n",
       "      <td>[447]</td>\n",
       "    </tr>\n",
       "    <tr>\n",
       "      <th>13</th>\n",
       "      <td>22 00 00</td>\n",
       "      <td>[387, 460, 463, 466, 469, 516]</td>\n",
       "    </tr>\n",
       "    <tr>\n",
       "      <th>14</th>\n",
       "      <td>23 05 15</td>\n",
       "      <td>[103, 135, 145, 147, 149, 151, 155]</td>\n",
       "    </tr>\n",
       "    <tr>\n",
       "      <th>15</th>\n",
       "      <td>23 07 00</td>\n",
       "      <td>[185, 187]</td>\n",
       "    </tr>\n",
       "    <tr>\n",
       "      <th>16</th>\n",
       "      <td>23 23 00</td>\n",
       "      <td>[395]</td>\n",
       "    </tr>\n",
       "    <tr>\n",
       "      <th>17</th>\n",
       "      <td>23 30 00</td>\n",
       "      <td>[169, 174, 183, 185, 3525]</td>\n",
       "    </tr>\n",
       "    <tr>\n",
       "      <th>18</th>\n",
       "      <td>23 64 26</td>\n",
       "      <td>[115, 125, 176, 179, 194, 197, 200, 221]</td>\n",
       "    </tr>\n",
       "    <tr>\n",
       "      <th>19</th>\n",
       "      <td>23 65 00</td>\n",
       "      <td>[77]</td>\n",
       "    </tr>\n",
       "    <tr>\n",
       "      <th>20</th>\n",
       "      <td>23 81 00</td>\n",
       "      <td>[121]</td>\n",
       "    </tr>\n",
       "    <tr>\n",
       "      <th>21</th>\n",
       "      <td>26 11 16.00 33</td>\n",
       "      <td>[100]</td>\n",
       "    </tr>\n",
       "    <tr>\n",
       "      <th>22</th>\n",
       "      <td>33 11 00</td>\n",
       "      <td>[129]</td>\n",
       "    </tr>\n",
       "  </tbody>\n",
       "</table>\n",
       "</div>"
      ],
      "text/plain": [
       "           Section                            Occuring Lines\n",
       "1         02 83 00                                    [1632]\n",
       "2         05 12 00                                     [180]\n",
       "3         05 30 00                                     [128]\n",
       "4         05 51 33                                [101, 103]\n",
       "5         05 52 00                           [108, 117, 123]\n",
       "6         07 60 00                           [128, 130, 131]\n",
       "7         08 11 16                                [117, 119]\n",
       "8         08 31 00                                     [134]\n",
       "9         08 91 00                                     [146]\n",
       "10     10 14 00.10                                     [121]\n",
       "11     10 14 00.20                                [186, 188]\n",
       "12        21 30 00                                     [447]\n",
       "13        22 00 00            [387, 460, 463, 466, 469, 516]\n",
       "14        23 05 15       [103, 135, 145, 147, 149, 151, 155]\n",
       "15        23 07 00                                [185, 187]\n",
       "16        23 23 00                                     [395]\n",
       "17        23 30 00                [169, 174, 183, 185, 3525]\n",
       "18        23 64 26  [115, 125, 176, 179, 194, 197, 200, 221]\n",
       "19        23 65 00                                      [77]\n",
       "20        23 81 00                                     [121]\n",
       "21  26 11 16.00 33                                     [100]\n",
       "22        33 11 00                                     [129]"
      ]
     },
     "execution_count": 13,
     "metadata": {},
     "output_type": "execute_result"
    }
   ],
   "source": [
    "jes_lines = get_all_lines(jes_files)\n",
    "jes_df = make_df(jes_lines)\n",
    "jes_df"
   ]
  },
  {
   "cell_type": "code",
   "execution_count": 14,
   "id": "9879d59a",
   "metadata": {},
   "outputs": [
    {
     "data": {
      "text/html": [
       "<div>\n",
       "<style scoped>\n",
       "    .dataframe tbody tr th:only-of-type {\n",
       "        vertical-align: middle;\n",
       "    }\n",
       "\n",
       "    .dataframe tbody tr th {\n",
       "        vertical-align: top;\n",
       "    }\n",
       "\n",
       "    .dataframe thead th {\n",
       "        text-align: right;\n",
       "    }\n",
       "</style>\n",
       "<table border=\"1\" class=\"dataframe\">\n",
       "  <thead>\n",
       "    <tr style=\"text-align: right;\">\n",
       "      <th></th>\n",
       "      <th>Section</th>\n",
       "      <th>Occuring Lines</th>\n",
       "    </tr>\n",
       "  </thead>\n",
       "  <tbody>\n",
       "    <tr>\n",
       "      <th>1</th>\n",
       "      <td>02 83 00</td>\n",
       "      <td>[1347]</td>\n",
       "    </tr>\n",
       "  </tbody>\n",
       "</table>\n",
       "</div>"
      ],
      "text/plain": [
       "    Section Occuring Lines\n",
       "1  02 83 00         [1347]"
      ]
     },
     "execution_count": 14,
     "metadata": {},
     "output_type": "execute_result"
    }
   ],
   "source": [
    "ufgs_lines = get_all_lines(ufgs_files)\n",
    "ufgs_df = make_df(ufgs_lines)\n",
    "ufgs_df"
   ]
  },
  {
   "cell_type": "markdown",
   "id": "97425019",
   "metadata": {},
   "source": [
    "**NOTE:** that the error in section **02 83 00** is inherited from the UFGS version, however, it appears on a different line number only because there are additional lines in the JES version."
   ]
  },
  {
   "cell_type": "markdown",
   "id": "d9d050fe",
   "metadata": {},
   "source": [
    "##### Export to Excel"
   ]
  },
  {
   "cell_type": "code",
   "execution_count": 15,
   "id": "e256b782",
   "metadata": {},
   "outputs": [],
   "source": [
    "def export_df(title, df, parent_folder):\n",
    "    error_lines_report = parent_folder + f'\\\\{title} Error Lines ' + '{:%Y%m%d %H%M%S}'.format(datetime.datetime.now()) + '.xlsx'\n",
    "    if len(df) > 0:\n",
    "        df.to_excel(error_lines_report, header=['Section', \n",
    "                                              'Error Lines'])"
   ]
  },
  {
   "cell_type": "code",
   "execution_count": 16,
   "id": "3b9f381d",
   "metadata": {},
   "outputs": [],
   "source": [
    "export_df('UFGS', ufgs_df, parent_folder)"
   ]
  },
  {
   "cell_type": "code",
   "execution_count": 17,
   "id": "5beeeb10",
   "metadata": {},
   "outputs": [],
   "source": [
    "export_df('JES', jes_df, parent_folder)"
   ]
  }
 ],
 "metadata": {
  "kernelspec": {
   "display_name": "Python 3 (ipykernel)",
   "language": "python",
   "name": "python3"
  },
  "language_info": {
   "codemirror_mode": {
    "name": "ipython",
    "version": 3
   },
   "file_extension": ".py",
   "mimetype": "text/x-python",
   "name": "python",
   "nbconvert_exporter": "python",
   "pygments_lexer": "ipython3",
   "version": "3.9.12"
  }
 },
 "nbformat": 4,
 "nbformat_minor": 5
}
